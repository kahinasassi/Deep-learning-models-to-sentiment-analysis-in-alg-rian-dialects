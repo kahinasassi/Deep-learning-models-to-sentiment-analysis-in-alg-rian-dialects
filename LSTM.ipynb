{
  "nbformat": 4,
  "nbformat_minor": 0,
  "metadata": {
    "colab": {
      "name": "LSTM.ipynb",
      "provenance": [],
      "collapsed_sections": [],
      "include_colab_link": true
    },
    "kernelspec": {
      "name": "python3",
      "display_name": "Python 3"
    }
  },
  "cells": [
    {
      "cell_type": "markdown",
      "metadata": {
        "id": "view-in-github",
        "colab_type": "text"
      },
      "source": [
        "<a href=\"https://colab.research.google.com/github/kahinasassi/Deep-learning-models-to-sentiment-analysis-in-alg-rian-dialects/blob/main/LSTM.ipynb\" target=\"_parent\"><img src=\"https://colab.research.google.com/assets/colab-badge.svg\" alt=\"Open In Colab\"/></a>"
      ]
    },
    {
      "cell_type": "code",
      "metadata": {
        "id": "JC9Gv1G_0B2J",
        "outputId": "71d4619a-7733-4979-fc29-f48acc69bc2f",
        "colab": {
          "base_uri": "https://localhost:8080/",
          "height": 34
        }
      },
      "source": [
        "from google.colab import drive\n",
        "drive.mount('/content/drive')"
      ],
      "execution_count": null,
      "outputs": [
        {
          "output_type": "stream",
          "text": [
            "Mounted at /content/drive\n"
          ],
          "name": "stdout"
        }
      ]
    },
    {
      "cell_type": "code",
      "metadata": {
        "id": "3FJqduB10XZL",
        "outputId": "4de52f09-37f4-4b05-b8a4-cdb57759a1c9",
        "colab": {
          "base_uri": "https://localhost:8080/",
          "height": 312
        }
      },
      "source": [
        "!pip install scikit-plot\n",
        "!pip install -q pyyaml h5py  # Required to save models in HDF5 format\n",
        "import numpy as np\n",
        "import pandas as pd\n",
        "import nltk\n",
        "from nltk import re\n",
        "from nltk import defaultdict\n",
        "import io\n",
        "from keras.models import Model\n",
        "\n",
        "import codecs\n",
        "import csv\n",
        "import pickle\n",
        "import nltk\n",
        "import time\n",
        "from sklearn.feature_extraction.text import CountVectorizer\n",
        "from keras.preprocessing.text import Tokenizer\n",
        "from keras.preprocessing.sequence import pad_sequences\n",
        "from keras.models import Sequential\n",
        "from keras.layers import Dense, Embedding, LSTM, SpatialDropout1D \n",
        "from sklearn.model_selection import train_test_split\n",
        "from keras.utils.np_utils import to_categorical\n",
        "from sklearn.utils import resample\n",
        "from sklearn.utils import shuffle\n",
        "from sklearn.metrics import confusion_matrix,classification_report\n",
        "import scikitplot as skplt\n",
        "import h5py\n",
        "from keras.models import load_model\n",
        "from keras.optimizers import Adam\n",
        "from keras.models import Sequential\n",
        "from keras.layers import LSTM, Dense, Embedding, Bidirectional ,Conv1D, Dropout  ,MaxPooling1D,Flatten,Concatenate\n",
        "from keras.layers import TimeDistributed\n",
        "import keras\n",
        "from keras.optimizers import Adam , SGD, RMSprop\n",
        "import matplotlib.pyplot as plt\n",
        "from keras import backend as K\n",
        "from keras.callbacks import ReduceLROnPlateau\n",
        "from tensorflow.keras.callbacks import EarlyStopping, ModelCheckpoint\n",
        "from tensorflow.keras import regularizers\n",
        "from collections import Counter\n",
        "from keras.preprocessing.text import Tokenizer\n",
        "from keras.preprocessing.sequence import pad_sequences\n",
        "from keras.utils import to_categorical\n",
        "import pandas as pd\n",
        "import os\n",
        "import matplotlib.pyplot as plt\n",
        "from keras.layers import Input, Dense, Embedding, Conv1D, MaxPool1D\n",
        "import numpy as np\n",
        "from sklearn import metrics\n",
        "from sklearn.model_selection import StratifiedKFold\n",
        "nltk.download('punkt')"
      ],
      "execution_count": null,
      "outputs": [
        {
          "output_type": "stream",
          "text": [
            "Collecting scikit-plot\n",
            "  Downloading https://files.pythonhosted.org/packages/7c/47/32520e259340c140a4ad27c1b97050dd3254fdc517b1d59974d47037510e/scikit_plot-0.3.7-py3-none-any.whl\n",
            "Requirement already satisfied: joblib>=0.10 in /usr/local/lib/python3.6/dist-packages (from scikit-plot) (0.16.0)\n",
            "Requirement already satisfied: scikit-learn>=0.18 in /usr/local/lib/python3.6/dist-packages (from scikit-plot) (0.22.2.post1)\n",
            "Requirement already satisfied: matplotlib>=1.4.0 in /usr/local/lib/python3.6/dist-packages (from scikit-plot) (3.2.2)\n",
            "Requirement already satisfied: scipy>=0.9 in /usr/local/lib/python3.6/dist-packages (from scikit-plot) (1.4.1)\n",
            "Requirement already satisfied: numpy>=1.11.0 in /usr/local/lib/python3.6/dist-packages (from scikit-learn>=0.18->scikit-plot) (1.18.5)\n",
            "Requirement already satisfied: kiwisolver>=1.0.1 in /usr/local/lib/python3.6/dist-packages (from matplotlib>=1.4.0->scikit-plot) (1.2.0)\n",
            "Requirement already satisfied: pyparsing!=2.0.4,!=2.1.2,!=2.1.6,>=2.0.1 in /usr/local/lib/python3.6/dist-packages (from matplotlib>=1.4.0->scikit-plot) (2.4.7)\n",
            "Requirement already satisfied: cycler>=0.10 in /usr/local/lib/python3.6/dist-packages (from matplotlib>=1.4.0->scikit-plot) (0.10.0)\n",
            "Requirement already satisfied: python-dateutil>=2.1 in /usr/local/lib/python3.6/dist-packages (from matplotlib>=1.4.0->scikit-plot) (2.8.1)\n",
            "Requirement already satisfied: six in /usr/local/lib/python3.6/dist-packages (from cycler>=0.10->matplotlib>=1.4.0->scikit-plot) (1.15.0)\n",
            "Installing collected packages: scikit-plot\n",
            "Successfully installed scikit-plot-0.3.7\n",
            "[nltk_data] Downloading package punkt to /root/nltk_data...\n",
            "[nltk_data]   Unzipping tokenizers/punkt.zip.\n"
          ],
          "name": "stdout"
        },
        {
          "output_type": "execute_result",
          "data": {
            "text/plain": [
              "True"
            ]
          },
          "metadata": {
            "tags": []
          },
          "execution_count": 2
        }
      ]
    },
    {
      "cell_type": "code",
      "metadata": {
        "id": "SAx8OlKA0eVT"
      },
      "source": [
        "# ouvrir un fichier pickle\n",
        "def open_pickle(path):\n",
        "  with open(path, 'rb') as handle: \n",
        "    doc= pickle.load(handle)\n",
        "    return doc\n",
        "\n",
        "def save_pickle(variable,filename):\n",
        "    with open(filename, 'wb') as handle:\n",
        "         pickle.dump(variable, handle, protocol=pickle.HIGHEST_PROTOCOL)\n",
        "#modified\n",
        "from keras import backend as K\n",
        "\n",
        "def check_units(y_true, y_pred):\n",
        "    if y_pred.shape[1] != 1:\n",
        "        y_pred = y_pred[:,1:2]\n",
        "        y_true = y_true[:,1:2]\n",
        "    \n",
        "    return y_true, y_pred\n",
        "\n",
        "def precision(y_true, y_pred):\n",
        "    y_true, y_pred = check_units(y_true, y_pred)\n",
        "    true_positives = K.sum(K.round(K.clip(y_true * y_pred, 0, 1)))\n",
        "    predicted_positives = K.sum(K.round(K.clip(y_pred, 0, 1)))\n",
        "    precision = true_positives / (predicted_positives + K.epsilon())\n",
        "    \n",
        "    return precision\n",
        "\n",
        "def recall(y_true, y_pred):\n",
        "    y_true, y_pred = check_units(y_true, y_pred)\n",
        "    true_positives = K.sum(K.round(K.clip(y_true * y_pred, 0, 1)))\n",
        "    possible_positives = K.sum(K.round(K.clip(y_true, 0, 1)))\n",
        "    recall = true_positives / (possible_positives + K.epsilon())\n",
        "    \n",
        "    return recall\n",
        "\n",
        "def fmeasure(y_true, y_pred):\n",
        "    def recall(y_true, y_pred):\n",
        "        true_positives = K.sum(K.round(K.clip(y_true * y_pred, 0, 1)))\n",
        "        possible_positives = K.sum(K.round(K.clip(y_true, 0, 1)))\n",
        "        recall = true_positives / (possible_positives + K.epsilon())\n",
        "        \n",
        "        return recall\n",
        "\n",
        "    def precision(y_true, y_pred):\n",
        "        true_positives = K.sum(K.round(K.clip(y_true * y_pred, 0, 1)))\n",
        "        predicted_positives = K.sum(K.round(K.clip(y_pred, 0, 1)))\n",
        "        precision = true_positives / (predicted_positives + K.epsilon())\n",
        "        \n",
        "        return precision\n",
        "    \n",
        "    y_true, y_pred = check_units(y_true, y_pred)\n",
        "    precision = precision(y_true, y_pred)\n",
        "    recall = recall(y_true, y_pred)\n",
        "    \n",
        "    return 2 * ((precision * recall) / (precision + recall + K.epsilon()))\n",
        "\n",
        "#  optimizer\n",
        "sgd = keras.optimizers.SGD(lr=1e-4, momentum=0.9)\n",
        "rms_prop = keras.optimizers.RMSprop(lr=1e-4)\n",
        "#opt = Adam(learning_rate = 0.001, beta_1 = 0.9, beta_2 = 0.999, epsilon = 1e-08, decay = 0.0)\n",
        "\n",
        "adamax = keras.optimizers.Adamax(lr=1e-4, beta_1=0.9, beta_2=0.999, epsilon=None, decay=0.0)\n",
        "adadelta = keras.optimizers.Adadelta(lr=1.0, rho=0.95, epsilon=1e-08, decay=0.0)\n",
        "\n",
        "learning_rate_reduction = ReduceLROnPlateau(monitor='val_acc', \n",
        "                                            patience=3, \n",
        "                                            verbose=1, \n",
        "                                            factor=0.5, \n",
        "                                            min_lr=0.0001)\n",
        "\n",
        "\n",
        "#*********************************************Accuaracy and loss*******************************\n",
        "def plot_graphs(history, string):\n",
        "  plt.plot(history.history[string])\n",
        "  plt.plot(history.history['val_'+string])\n",
        "  plt.xlabel(\"Epochs\")\n",
        "  plt.ylabel(string)\n",
        "  plt.legend([string, 'val_'+string])\n",
        "  plt.show()"
      ],
      "execution_count": null,
      "outputs": []
    },
    {
      "cell_type": "markdown",
      "metadata": {
        "id": "cc4DJLaYw_py"
      },
      "source": [
        "# 1 Ensemble de données"
      ]
    },
    {
      "cell_type": "markdown",
      "metadata": {
        "id": "uN0mzxT8xF5j"
      },
      "source": [
        "## Remarque: décommenter 1 seul ensemble de données à testet"
      ]
    },
    {
      "cell_type": "markdown",
      "metadata": {
        "id": "YbHa-I5axJhY"
      },
      "source": [
        "# Mataoui originale: 2classes"
      ]
    },
    {
      "cell_type": "code",
      "metadata": {
        "id": "vmJTwsk1xMpx"
      },
      "source": [
        "#data=open_pickle(\"/content/drive/My Drive/PROJET FIN ETUDE 2019 2020/ressources/mataouiOrg.pickle\")\n",
        "'''\n",
        "data.info()\n",
        "print('**********************************************************************')\n",
        "print(data.shape)\n",
        "print('**********************************************************************')\n",
        "#print(data.label.value_counts())\n",
        "print(\"nbr de val positives = \",len(data.loc[data['label'] == 1].iloc[:,1]))\n",
        "print(\"nbr de val negatives = \",len(data.loc[data['label'] == -1].iloc[:,1]))\n",
        "print(\"nbr de val neutres = \",len(data.loc[data['label'] == 0].iloc[:,1]))\n",
        "print(\"**********************************************************************\")\n",
        "print(\"les valeurs nuls:\\n\", data.isnull().sum())\n",
        "data = pd.DataFrame(data)'''"
      ],
      "execution_count": null,
      "outputs": []
    },
    {
      "cell_type": "markdown",
      "metadata": {
        "id": "Eb4gkGVUxPRn"
      },
      "source": [
        "# Mataoui avec 3 classes"
      ]
    },
    {
      "cell_type": "code",
      "metadata": {
        "id": "uO3BvLudxUeJ"
      },
      "source": [
        "#data=open_pickle(\"/content/drive/My Drive/PROJET FIN ETUDE 2019 2020/ressources/dataMataoui.pickle\")\n",
        "'''\n",
        "data.info()\n",
        "print('**********************************************************************')\n",
        "print(data.shape)\n",
        "print('**********************************************************************')\n",
        "#print(data.label.value_counts())\n",
        "print(\"nbr de val positives = \",len(data.loc[data['label'] == 1].iloc[:,1]))\n",
        "print(\"nbr de val negatives = \",len(data.loc[data['label'] == -1].iloc[:,1]))\n",
        "print(\"nbr de val neutres = \",len(data.loc[data['label'] == 0].iloc[:,1]))\n",
        "print(\"**********************************************************************\")\n",
        "print(\"les valeurs nuls:\\n\", data.isnull().sum())\n",
        "data = pd.DataFrame(data)'''"
      ],
      "execution_count": null,
      "outputs": []
    },
    {
      "cell_type": "markdown",
      "metadata": {
        "id": "VEXOG2dXxXpI"
      },
      "source": [
        "# BrandtDz"
      ]
    },
    {
      "cell_type": "code",
      "metadata": {
        "id": "fgGaYWgIxaNK"
      },
      "source": [
        "#data=open_pickle(\"/content/drive/My Drive/PROJET FIN ETUDE 2019 2020/ressources/BRANDT.pickle\")\n",
        "'''\n",
        "data.info()\n",
        "print('**********************************************************************')\n",
        "print(data.shape)\n",
        "print('**********************************************************************')\n",
        "#print(data.label.value_counts())\n",
        "print(\"nbr de val positives = \",len(data.loc[data['label'] == 1].iloc[:,1]))\n",
        "print(\"nbr de val negatives = \",len(data.loc[data['label'] == -1].iloc[:,1]))\n",
        "print(\"nbr de val neutres = \",len(data.loc[data['label'] == 0].iloc[:,1]))\n",
        "print(\"**********************************************************************\")\n",
        "print(\"les valeurs nuls:\\n\", data.isnull().sum())\n",
        "data = pd.DataFrame(data)'''"
      ],
      "execution_count": null,
      "outputs": []
    },
    {
      "cell_type": "markdown",
      "metadata": {
        "id": "SHesa-jyxb1J"
      },
      "source": [
        "# Madar+ YouTube"
      ]
    },
    {
      "cell_type": "code",
      "metadata": {
        "id": "-M73SpqZxeiM"
      },
      "source": [
        "#data=open_pickle(\"/content/drive/My Drive/PROJET FIN ETUDE 2019 2020/ressources/data_mixed.pickle\")\n",
        "'''\n",
        "data.info()\n",
        "print('**********************************************************************')\n",
        "print(data.shape)\n",
        "print('**********************************************************************')\n",
        "#print(data.label.value_counts())\n",
        "print(\"nbr de val positives = \",len(data.loc[data['label'] == 1].iloc[:,1]))\n",
        "print(\"nbr de val negatives = \",len(data.loc[data['label'] == -1].iloc[:,1]))\n",
        "print(\"nbr de val neutres = \",len(data.loc[data['label'] == 0].iloc[:,1]))\n",
        "print(\"**********************************************************************\")\n",
        "print(\"les valeurs nuls:\\n\", data.isnull().sum())\n",
        "data = pd.DataFrame(data)'''"
      ],
      "execution_count": null,
      "outputs": []
    },
    {
      "cell_type": "markdown",
      "metadata": {
        "id": "C5xl7qvwxjmA"
      },
      "source": [
        "# dataset rassemblé"
      ]
    },
    {
      "cell_type": "code",
      "metadata": {
        "id": "SyXGeVezxnY9",
        "outputId": "fdf78b03-665f-4f42-b39b-0aa4e9e8b093",
        "colab": {
          "base_uri": "https://localhost:8080/",
          "height": 69
        }
      },
      "source": [
        "data=open_pickle(\"/content/drive/My Drive/PROJET FIN ETUDE 2019 2020/ressources/finale_data.pickle\")\n",
        "'''\n",
        "data.info()\n",
        "print('**********************************************************************')\n",
        "print(data.shape)\n",
        "print('**********************************************************************')\n",
        "#print(data.label.value_counts())\n",
        "print(\"nbr de val positives = \",len(data.loc[data['label'] == 1].iloc[:,1]))\n",
        "print(\"nbr de val negatives = \",len(data.loc[data['label'] == -1].iloc[:,1]))\n",
        "print(\"nbr de val neutres = \",len(data.loc[data['label'] == 0].iloc[:,1]))\n",
        "print(\"**********************************************************************\")\n",
        "print(\"les valeurs nuls:\\n\", data.isnull().sum())\n",
        "data = pd.DataFrame(data)'''"
      ],
      "execution_count": null,
      "outputs": [
        {
          "output_type": "execute_result",
          "data": {
            "application/vnd.google.colaboratory.intrinsic+json": {
              "type": "string"
            },
            "text/plain": [
              "'\\ndata.info()\\nprint(\\'**********************************************************************\\')\\nprint(data.shape)\\nprint(\\'**********************************************************************\\')\\n#print(data.label.value_counts())\\nprint(\"nbr de val positives = \",len(data.loc[data[\\'label\\'] == 1].iloc[:,1]))\\nprint(\"nbr de val negatives = \",len(data.loc[data[\\'label\\'] == -1].iloc[:,1]))\\nprint(\"nbr de val neutres = \",len(data.loc[data[\\'label\\'] == 0].iloc[:,1]))\\nprint(\"**********************************************************************\")\\nprint(\"les valeurs nuls:\\n\", data.isnull().sum())\\ndata = pd.DataFrame(data)'"
            ]
          },
          "metadata": {
            "tags": []
          },
          "execution_count": 4
        }
      ]
    },
    {
      "cell_type": "markdown",
      "metadata": {
        "id": "BrnCB1Fwxt3z"
      },
      "source": [
        "# ensemble de données équilibere"
      ]
    },
    {
      "cell_type": "code",
      "metadata": {
        "id": "5L1xsAXs0j0-",
        "outputId": "ffdf0d5f-06bb-43d4-dd89-77ef6044dbe3",
        "colab": {
          "base_uri": "https://localhost:8080/",
          "height": 104
        }
      },
      "source": [
        " \n",
        "'''\n",
        "data=open_pickle(\"/content/drive/My Drive/PROJET FIN ETUDE 2019 2020/ressources/finale_data.pickle\")\n",
        "\n",
        "data = pd.DataFrame(data)\n",
        "pos = data[data['label'] ==1]\n",
        "neg = data[data['label'] == -1]\n",
        "neu = data[data['label'] == 0]\n",
        "\n",
        "max_len = min(len(pos), len(neg), len(neu))\n",
        "\n",
        "data_ = []\n",
        "for i in range(max_len):\n",
        "  data_ += [{'text' : pos.iloc[i]['text'], 'label' : pos.iloc[i]['label']}]\n",
        "  data_ += [{'text' : neg.iloc[i]['text'], 'label' : neg.iloc[i]['label']}]\n",
        "  data_ += [{'text' : neu.iloc[i]['text'], 'label' : neu.iloc[i]['label']}]\n",
        "\n",
        "data = pd.DataFrame(data_)\n",
        "\n",
        "'''\n",
        "\n"
      ],
      "execution_count": null,
      "outputs": [
        {
          "output_type": "execute_result",
          "data": {
            "application/vnd.google.colaboratory.intrinsic+json": {
              "type": "string"
            },
            "text/plain": [
              "\"\\npos = data[data['label'] ==1]\\nneg = data[data['label'] == -1]\\nneu = data[data['label'] == 0]\\n\\nmax_len = min(len(pos), len(neg), len(neu))\\n\\ndata_ = []\\nfor i in range(max_len):\\n  data_ += [{'text' : pos.iloc[i]['text'], 'label' : pos.iloc[i]['label']}]\\n  data_ += [{'text' : neg.iloc[i]['text'], 'label' : neg.iloc[i]['label']}]\\n  data_ += [{'text' : neu.iloc[i]['text'], 'label' : neu.iloc[i]['label']}]\\n\\ndata = pd.DataFrame(data_)\\n\\n\""
            ]
          },
          "metadata": {
            "tags": []
          },
          "execution_count": 47
        }
      ]
    },
    {
      "cell_type": "markdown",
      "metadata": {
        "id": "98dDK7kHxw3Z"
      },
      "source": [
        "# Traitement"
      ]
    },
    {
      "cell_type": "code",
      "metadata": {
        "id": "3HFpOWrkxz8o"
      },
      "source": [
        "X_train, X_test, y_train, y_test = train_test_split(data['text'],data['label'], train_size=0.90)\n",
        "\n",
        "texte = X_train.append(X_test)"
      ],
      "execution_count": null,
      "outputs": []
    },
    {
      "cell_type": "markdown",
      "metadata": {
        "id": "slGk6Lwrx2ko"
      },
      "source": [
        "# Encodage du text"
      ]
    },
    {
      "cell_type": "code",
      "metadata": {
        "id": "QPXJZJwG06UU",
        "outputId": "90dc0b7f-dc26-492e-9d91-28152da69d67",
        "colab": {
          "base_uri": "https://localhost:8080/",
          "height": 34
        }
      },
      "source": [
        "from collections import Counter\n",
        "\n",
        "# Count unique words\n",
        "def counter_word(text):\n",
        "    count = Counter()\n",
        "    for i in text.values:\n",
        "        for word in i.split():\n",
        "            count[word] += 1\n",
        "    return count\n",
        "\n",
        "counter = counter_word(texte)\n",
        "num_words = len(counter)# we 'll use it to vocab \n",
        "\n",
        "# Max number of words in a sequence\n",
        "max_length = 60\n",
        "print('vocab=', len(counter),' and max_length=',max_length)"
      ],
      "execution_count": null,
      "outputs": [
        {
          "output_type": "stream",
          "text": [
            "vocab= 42404  and max_length= 60\n"
          ],
          "name": "stdout"
        }
      ]
    },
    {
      "cell_type": "code",
      "metadata": {
        "id": "-C2elfsm0k9V",
        "outputId": "b1a342db-efc9-4102-cb88-dfd158db2ff2",
        "colab": {
          "base_uri": "https://localhost:8080/",
          "height": 34
        }
      },
      "source": [
        "\n",
        "from keras.preprocessing.text import Tokenizer\n",
        "from keras.preprocessing.sequence import pad_sequences\n",
        "\n",
        "tokenizer = Tokenizer(num_words=num_words)\n",
        "tokenizer.fit_on_texts(X_train)\n",
        "word_index = tokenizer.word_index\n",
        "\n",
        "train_sequences = tokenizer.texts_to_sequences(X_train)\n",
        "train_padded = pad_sequences( train_sequences, maxlen=max_length, padding=\"post\", truncating=\"post\")\n",
        "\n",
        "test_sequences = tokenizer.texts_to_sequences(X_test)\n",
        "test_padded = pad_sequences(  test_sequences, maxlen=max_length, padding=\"post\", truncating=\"post\")\n",
        "\n",
        "reverse_word_index = dict([(value, key) for (key, value) in word_index.items()])\n",
        "def decode(text):\n",
        "    return \" \".join([reverse_word_index.get(i, \"?\") for i in text])\n",
        "decode(train_sequences[0])\n",
        "\n",
        "#len(valid_padded)"
      ],
      "execution_count": null,
      "outputs": [
        {
          "output_type": "execute_result",
          "data": {
            "application/vnd.google.colaboratory.intrinsic+json": {
              "type": "string"
            },
            "text/plain": [
              "'انت لىس حظ رسرذ عظم'"
            ]
          },
          "metadata": {
            "tags": []
          },
          "execution_count": 50
        }
      ]
    },
    {
      "cell_type": "markdown",
      "metadata": {
        "id": "m96uVuPTx6Po"
      },
      "source": [
        "# Encodage des labels"
      ]
    },
    {
      "cell_type": "code",
      "metadata": {
        "id": "pQm7bTco0vjU",
        "outputId": "863267e7-aaf1-42de-ea0c-83c9570d297a",
        "colab": {
          "base_uri": "https://localhost:8080/",
          "height": 34
        }
      },
      "source": [
        "\n",
        "\n",
        "from keras.utils import to_categorical\n",
        "\n",
        "y_train = np.array(y_train)\n",
        "y_test = np.array(y_test)\n",
        "y_train = to_categorical(y_train, num_classes=3)\n",
        "y_test = to_categorical(y_test, num_classes=3)\n",
        "\n",
        "y_train.shape"
      ],
      "execution_count": null,
      "outputs": [
        {
          "output_type": "execute_result",
          "data": {
            "text/plain": [
              "(18824, 3)"
            ]
          },
          "metadata": {
            "tags": []
          },
          "execution_count": 51
        }
      ]
    },
    {
      "cell_type": "markdown",
      "metadata": {
        "id": "AgSntUNmx9bD"
      },
      "source": [
        "# Architecture"
      ]
    },
    {
      "cell_type": "markdown",
      "metadata": {
        "id": "_DF3c9muyBcx"
      },
      "source": [
        "## 2 couches LSTM"
      ]
    },
    {
      "cell_type": "code",
      "metadata": {
        "id": "-sSJ9s8n2lS4"
      },
      "source": [
        "model=Sequential()\n",
        "model.add(Embedding(num_words,100,input_shape= (train_padded.shape[1],),mask_zero=True))\n",
        "model.add(SpatialDropout1D(0.40))\n",
        "model.add(LSTM(16,dropout=0.1, recurrent_dropout=0.4,return_sequences=True))\n",
        "model.add(LSTM(8))\n",
        "\n",
        "#model.add(Dense(32, activation='relu'))\n",
        "model.add(Dropout(0.3))\n",
        "\n",
        "model.add(Dense(3,activation='softmax'))"
      ],
      "execution_count": null,
      "outputs": []
    },
    {
      "cell_type": "markdown",
      "metadata": {
        "id": "2jiReU1byYv9"
      },
      "source": [
        "# Compilation"
      ]
    },
    {
      "cell_type": "code",
      "metadata": {
        "id": "7g2I3q1d10oX",
        "outputId": "4c731688-4088-40c3-fd0b-280975a6ada5",
        "colab": {
          "base_uri": "https://localhost:8080/",
          "height": 364
        }
      },
      "source": [
        "\n",
        "#  optimizer\n",
        "sgd = keras.optimizers.SGD(lr=0.001, momentum=0.9)\n",
        "rms_prop = keras.optimizers.RMSprop(lr=0.0001)\n",
        "opt = Adam(learning_rate = 0.0001, beta_1 = 0.9, beta_2 = 0.999, epsilon = 1e-08, decay = 0.0)\n",
        "\n",
        "adamax = keras.optimizers.Adamax(lr=1e-4, beta_1=0.9, beta_2=0.999, epsilon=None, decay=0.0)\n",
        "adadelta = keras.optimizers.Adadelta(lr=1.0, rho=0.95, epsilon=1e-08, decay=0.0)\n",
        "\n",
        "learning_rate_reduction = ReduceLROnPlateau(monitor='val_acc', \n",
        "                                            patience=3, \n",
        "                                            verbose=1, \n",
        "                                            factor=0.5, \n",
        "                                            min_lr=0.0001)\n",
        "model.compile(optimizer = opt, loss = keras.losses.categorical_crossentropy, metrics = ['accuracy', recall, precision, fmeasure])\n",
        "model.summary()"
      ],
      "execution_count": null,
      "outputs": [
        {
          "output_type": "stream",
          "text": [
            "Model: \"sequential_1\"\n",
            "_________________________________________________________________\n",
            "Layer (type)                 Output Shape              Param #   \n",
            "=================================================================\n",
            "embedding_1 (Embedding)      (None, 60, 100)           4240400   \n",
            "_________________________________________________________________\n",
            "spatial_dropout1d_1 (Spatial (None, 60, 100)           0         \n",
            "_________________________________________________________________\n",
            "lstm_2 (LSTM)                (None, 60, 16)            7488      \n",
            "_________________________________________________________________\n",
            "lstm_3 (LSTM)                (None, 8)                 800       \n",
            "_________________________________________________________________\n",
            "dropout_1 (Dropout)          (None, 8)                 0         \n",
            "_________________________________________________________________\n",
            "dense_1 (Dense)              (None, 3)                 27        \n",
            "=================================================================\n",
            "Total params: 4,248,715\n",
            "Trainable params: 4,248,715\n",
            "Non-trainable params: 0\n",
            "_________________________________________________________________\n"
          ],
          "name": "stdout"
        }
      ]
    },
    {
      "cell_type": "markdown",
      "metadata": {
        "id": "NjfplDlEyirM"
      },
      "source": [
        "# Entrainement"
      ]
    },
    {
      "cell_type": "code",
      "metadata": {
        "id": "OdWVn9gC1Cdu",
        "outputId": "45c22bc8-3882-4adb-dabc-56041cb64f9d",
        "colab": {
          "base_uri": "https://localhost:8080/",
          "height": 557
        }
      },
      "source": [
        "history = model.fit(train_padded, y_train, epochs=50, batch_size=100,validation_split=0.10,callbacks=[EarlyStopping(monitor='val_loss',patience=3, min_delta=0.0001)])\n"
      ],
      "execution_count": null,
      "outputs": [
        {
          "output_type": "stream",
          "text": [
            "Epoch 1/50\n",
            "170/170 [==============================] - 32s 189ms/step - loss: 1.0960 - accuracy: 0.3973 - recall: 0.0000e+00 - precision: 0.0000e+00 - fmeasure: 0.0000e+00 - val_loss: 1.0925 - val_accuracy: 0.4068 - val_recall: 0.0000e+00 - val_precision: 0.0000e+00 - val_fmeasure: 0.0000e+00\n",
            "Epoch 2/50\n",
            "170/170 [==============================] - 31s 180ms/step - loss: 1.0850 - accuracy: 0.4415 - recall: 0.0000e+00 - precision: 0.0000e+00 - fmeasure: 0.0000e+00 - val_loss: 1.0762 - val_accuracy: 0.4716 - val_recall: 0.0000e+00 - val_precision: 0.0000e+00 - val_fmeasure: 0.0000e+00\n",
            "Epoch 3/50\n",
            "170/170 [==============================] - 31s 180ms/step - loss: 1.0610 - accuracy: 0.4863 - recall: 0.0000e+00 - precision: 0.0000e+00 - fmeasure: 0.0000e+00 - val_loss: 1.0514 - val_accuracy: 0.4992 - val_recall: 0.0000e+00 - val_precision: 0.0000e+00 - val_fmeasure: 0.0000e+00\n",
            "Epoch 4/50\n",
            "170/170 [==============================] - 30s 177ms/step - loss: 1.0108 - accuracy: 0.5475 - recall: 0.0171 - precision: 0.3510 - fmeasure: 0.0321 - val_loss: 1.0091 - val_accuracy: 0.5502 - val_recall: 0.0264 - val_precision: 0.6184 - val_fmeasure: 0.0500\n",
            "Epoch 5/50\n",
            "170/170 [==============================] - 31s 184ms/step - loss: 0.9339 - accuracy: 0.6168 - recall: 0.1775 - precision: 0.8772 - fmeasure: 0.2845 - val_loss: 0.9544 - val_accuracy: 0.5890 - val_recall: 0.2857 - val_precision: 0.8169 - val_fmeasure: 0.4199\n",
            "Epoch 6/50\n",
            "170/170 [==============================] - 30s 178ms/step - loss: 0.8389 - accuracy: 0.7054 - recall: 0.4024 - precision: 0.8639 - fmeasure: 0.5443 - val_loss: 0.9040 - val_accuracy: 0.6394 - val_recall: 0.4147 - val_precision: 0.7749 - val_fmeasure: 0.5360\n",
            "Epoch 7/50\n",
            "170/170 [==============================] - 30s 176ms/step - loss: 0.7541 - accuracy: 0.7675 - recall: 0.5250 - precision: 0.8717 - fmeasure: 0.6513 - val_loss: 0.8661 - val_accuracy: 0.6681 - val_recall: 0.4869 - val_precision: 0.7764 - val_fmeasure: 0.5940\n",
            "Epoch 8/50\n",
            "170/170 [==============================] - 30s 176ms/step - loss: 0.6816 - accuracy: 0.8050 - recall: 0.5930 - precision: 0.8857 - fmeasure: 0.7075 - val_loss: 0.8421 - val_accuracy: 0.6713 - val_recall: 0.5304 - val_precision: 0.7882 - val_fmeasure: 0.6299\n",
            "Epoch 9/50\n",
            "170/170 [==============================] - 30s 176ms/step - loss: 0.6251 - accuracy: 0.8286 - recall: 0.6518 - precision: 0.8948 - fmeasure: 0.7509 - val_loss: 0.8260 - val_accuracy: 0.6734 - val_recall: 0.5702 - val_precision: 0.7943 - val_fmeasure: 0.6605\n",
            "Epoch 10/50\n",
            "170/170 [==============================] - 30s 177ms/step - loss: 0.5708 - accuracy: 0.8443 - recall: 0.6959 - precision: 0.9081 - fmeasure: 0.7861 - val_loss: 0.8171 - val_accuracy: 0.6771 - val_recall: 0.5887 - val_precision: 0.7971 - val_fmeasure: 0.6739\n",
            "Epoch 11/50\n",
            "170/170 [==============================] - 30s 178ms/step - loss: 0.5248 - accuracy: 0.8584 - recall: 0.7297 - precision: 0.9172 - fmeasure: 0.8103 - val_loss: 0.8115 - val_accuracy: 0.6803 - val_recall: 0.6091 - val_precision: 0.7860 - val_fmeasure: 0.6832\n",
            "Epoch 12/50\n",
            "170/170 [==============================] - 30s 177ms/step - loss: 0.4819 - accuracy: 0.8713 - recall: 0.7642 - precision: 0.9245 - fmeasure: 0.8345 - val_loss: 0.8108 - val_accuracy: 0.6787 - val_recall: 0.6258 - val_precision: 0.7869 - val_fmeasure: 0.6940\n",
            "Epoch 13/50\n",
            "170/170 [==============================] - 30s 177ms/step - loss: 0.4498 - accuracy: 0.8792 - recall: 0.7806 - precision: 0.9279 - fmeasure: 0.8462 - val_loss: 0.8145 - val_accuracy: 0.6771 - val_recall: 0.6363 - val_precision: 0.7801 - val_fmeasure: 0.6980\n",
            "Epoch 14/50\n",
            "170/170 [==============================] - 30s 176ms/step - loss: 0.4200 - accuracy: 0.8878 - recall: 0.7971 - precision: 0.9367 - fmeasure: 0.8596 - val_loss: 0.8220 - val_accuracy: 0.6835 - val_recall: 0.6567 - val_precision: 0.7717 - val_fmeasure: 0.7067\n",
            "Epoch 15/50\n",
            "170/170 [==============================] - 30s 177ms/step - loss: 0.3902 - accuracy: 0.8963 - recall: 0.8233 - precision: 0.9350 - fmeasure: 0.8741 - val_loss: 0.8305 - val_accuracy: 0.6819 - val_recall: 0.6592 - val_precision: 0.7700 - val_fmeasure: 0.7073\n"
          ],
          "name": "stdout"
        }
      ]
    },
    {
      "cell_type": "code",
      "metadata": {
        "id": "q6Nh1RAp1IVJ",
        "outputId": "ce908d12-82c2-4e7a-f4a8-7e0d33f92dfa",
        "colab": {
          "base_uri": "https://localhost:8080/",
          "height": 89
        }
      },
      "source": [
        "result = model.evaluate(x=test_padded, y= y_test)\n",
        "print('Accuracy:', result[1])\n",
        "print('LOSS:', result[2])"
      ],
      "execution_count": null,
      "outputs": [
        {
          "output_type": "stream",
          "text": [
            "66/66 [==============================] - 1s 16ms/step - loss: 0.8346 - accuracy: 0.6831 - recall: 0.6799 - precision: 0.7704 - fmeasure: 0.7119\n",
            "Accuracy: 0.683078408241272\n",
            "LOSS: 0.6798620820045471\n"
          ],
          "name": "stdout"
        }
      ]
    },
    {
      "cell_type": "markdown",
      "metadata": {
        "id": "ZCXYsDfAylpG"
      },
      "source": [
        "# Evaulation"
      ]
    },
    {
      "cell_type": "code",
      "metadata": {
        "id": "pS8r9j7n1FP8",
        "outputId": "bf468537-a05d-4e32-9f06-ef4c5d6e9c55",
        "colab": {
          "base_uri": "https://localhost:8080/",
          "height": 541
        }
      },
      "source": [
        "plot_graphs(history, \"accuracy\")\n",
        "plot_graphs(history, \"loss\")"
      ],
      "execution_count": null,
      "outputs": [
        {
          "output_type": "display_data",
          "data": {
            "image/png": "[encoded data removed]",
            "text/plain": [
              "<Figure size 432x288 with 1 Axes>"
            ]
          },
          "metadata": {
            "tags": [],
            "needs_background": "light"
          }
        },
        {
          "output_type": "display_data",
          "data": {
            "image/png": "[encoded data removed]",
            "text/plain": [
              "<Figure size 432x288 with 1 Axes>"
            ]
          },
          "metadata": {
            "tags": [],
            "needs_background": "light"
          }
        }
      ]
    },
    {
      "cell_type": "code",
      "metadata": {
        "id": "yjFS06Fz1Lcv",
        "outputId": "0f58e370-42be-40f3-a11d-b7cfc1b55230",
        "colab": {
          "base_uri": "https://localhost:8080/",
          "height": 190
        }
      },
      "source": [
        "\n",
        "\n",
        "from sklearn.metrics import classification_report\n",
        "Y_pred = model.predict(test_padded)\n",
        "Y_pred_classes = np.argmax(Y_pred,axis = 1) \n",
        "Y_true = np.argmax(y_test,axis = 1) \n",
        "\n",
        "print(classification_report(Y_true,Y_pred_classes))"
      ],
      "execution_count": null,
      "outputs": [
        {
          "output_type": "stream",
          "text": [
            "              precision    recall  f1-score   support\n",
            "\n",
            "           0       0.63      0.69      0.66       669\n",
            "           1       0.73      0.75      0.74       812\n",
            "           2       0.68      0.58      0.62       611\n",
            "\n",
            "    accuracy                           0.68      2092\n",
            "   macro avg       0.68      0.67      0.68      2092\n",
            "weighted avg       0.68      0.68      0.68      2092\n",
            "\n"
          ],
          "name": "stdout"
        }
      ]
    },
    {
      "cell_type": "code",
      "metadata": {
        "id": "TVENahLi1zKl",
        "outputId": "5170eb85-bad0-48e4-fd49-b8f0924b4e9d",
        "colab": {
          "base_uri": "https://localhost:8080/",
          "height": 621
        }
      },
      "source": [
        "\n",
        "\n",
        "# confusion matrix\n",
        "import seaborn as sns\n",
        "from sklearn.metrics import confusion_matrix\n",
        "# Predict the values from the validation dataset\n",
        "Y_pred = model.predict(test_padded)\n",
        "# Convert predictions classes to one hot vectors \n",
        "Y_pred_classes = np.argmax(Y_pred,axis = 1) \n",
        "# Convert validation observations to one hot vectors\n",
        "Y_true = np.argmax(y_test,axis = 1) \n",
        "# compute the confusion matrix\n",
        "confusion_mtx = confusion_matrix(Y_true, Y_pred_classes) \n",
        "# plot the confusion matrix\n",
        "f,ax = plt.subplots(figsize=(10, 10))\n",
        "sns.heatmap(confusion_mtx, annot=True, linewidths=0.01,cmap=\"Greens\",linecolor=\"gray\", fmt= '.1f',ax=ax)\n",
        "plt.xlabel(\"Predicted Label\")\n",
        "plt.ylabel(\"True Label\")\n",
        "plt.title(\"Confusion Matrix\")\n",
        "plt.show()"
      ],
      "execution_count": null,
      "outputs": [
        {
          "output_type": "display_data",
          "data": {
            "image/png": "[encoded data removed]",
            "text/plain": [
              "<Figure size 720x720 with 2 Axes>"
            ]
          },
          "metadata": {
            "tags": [],
            "needs_background": "light"
          }
        }
      ]
    },
    {
      "cell_type": "markdown",
      "metadata": {
        "id": "7644ywS-yqNL"
      },
      "source": [
        "# sauvgarde"
      ]
    },
    {
      "cell_type": "code",
      "metadata": {
        "id": "HL9mYJtv3Sds"
      },
      "source": [
        "\n",
        "def savemodel(model,name):\n",
        "  model.save('/content/drive/My Drive/PROJET FIN ETUDE 2019 2020/CODE/'+name)\n",
        "def open_model(name):\n",
        "  return keras.models.load_model('/content/drive/My Drive/PROJET FIN ETUDE 2019 2020/CODE/'+name)"
      ],
      "execution_count": null,
      "outputs": []
    },
    {
      "cell_type": "code",
      "metadata": {
        "id": "-doS-iA-br-y"
      },
      "source": [
        ""
      ],
      "execution_count": null,
      "outputs": []
    }
  ]
}