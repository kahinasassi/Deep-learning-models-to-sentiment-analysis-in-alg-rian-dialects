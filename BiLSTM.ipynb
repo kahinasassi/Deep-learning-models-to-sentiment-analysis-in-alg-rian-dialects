{
  "nbformat": 4,
  "nbformat_minor": 0,
  "metadata": {
    "colab": {
      "name": "BiLSTM.ipynb",
      "provenance": [],
      "collapsed_sections": []
    },
    "kernelspec": {
      "name": "python3",
      "display_name": "Python 3"
    }
  },
  "cells": [
    {
      "cell_type": "code",
      "metadata": {
        "id": "Et2_mj49WAD8",
        "colab": {
          "base_uri": "https://localhost:8080/",
          "height": 124
        },
        "outputId": "af36bcf3-4ba0-433d-b9ef-b60035be6964"
      },
      "source": [
        "from google.colab import drive\n",
        "drive.mount('/content/drive')"
      ],
      "execution_count": null,
      "outputs": [
        {
          "output_type": "stream",
          "text": [
            "Go to this URL in a browser: https://accounts.google.com/o/oauth2/auth?client_id=947318989803-6bn6qk8qdgf4n4g3pfee6491hc0brc4i.apps.googleusercontent.com&redirect_uri=urn%3aietf%3awg%3aoauth%3a2.0%3aoob&response_type=code&scope=email%20https%3a%2f%2fwww.googleapis.com%2fauth%2fdocs.test%20https%3a%2f%2fwww.googleapis.com%2fauth%2fdrive%20https%3a%2f%2fwww.googleapis.com%2fauth%2fdrive.photos.readonly%20https%3a%2f%2fwww.googleapis.com%2fauth%2fpeopleapi.readonly\n",
            "\n",
            "Enter your authorization code:\n",
            "··········\n",
            "Mounted at /content/drive\n"
          ],
          "name": "stdout"
        }
      ]
    },
    {
      "cell_type": "code",
      "metadata": {
        "id": "rH3IZx7PUYNV",
        "colab": {
          "base_uri": "https://localhost:8080/",
          "height": 332
        },
        "outputId": "21739055-adf9-4a7e-93e6-1b272a7a038f"
      },
      "source": [
        "!pip install scikit-plot\n",
        "!pip install -q pyyaml h5py  # Required to save models in HDF5 format\n",
        "import numpy as np\n",
        "import pandas as pd\n",
        "import nltk\n",
        "from nltk import re\n",
        "from nltk import defaultdict\n",
        "import io\n",
        "from keras.models import Model\n",
        "\n",
        "import codecs\n",
        "import csv\n",
        "import pickle\n",
        "import nltk\n",
        "import time\n",
        "from sklearn.feature_extraction.text import CountVectorizer\n",
        "from keras.preprocessing.text import Tokenizer\n",
        "from keras.preprocessing.sequence import pad_sequences\n",
        "from keras.models import Sequential\n",
        "from keras.layers import Dense, Embedding, LSTM, SpatialDropout1D \n",
        "from sklearn.model_selection import train_test_split\n",
        "from keras.utils.np_utils import to_categorical\n",
        "from sklearn.utils import resample\n",
        "from sklearn.utils import shuffle\n",
        "from sklearn.metrics import confusion_matrix,classification_report\n",
        "import scikitplot as skplt\n",
        "import h5py\n",
        "from keras.models import load_model\n",
        "from keras.optimizers import Adam\n",
        "from keras.models import Sequential\n",
        "from keras.layers import LSTM, Dense, Embedding, Bidirectional ,Conv1D, Dropout  ,MaxPooling1D,Flatten,Concatenate\n",
        "from keras.layers import TimeDistributed\n",
        "import keras\n",
        "from keras.optimizers import Adam , SGD, RMSprop\n",
        "import matplotlib.pyplot as plt\n",
        "from keras import backend as K\n",
        "from keras.callbacks import ReduceLROnPlateau\n",
        "from tensorflow.keras.callbacks import EarlyStopping, ModelCheckpoint\n",
        "from tensorflow.keras import regularizers\n",
        "from collections import Counter\n",
        "from keras.preprocessing.text import Tokenizer\n",
        "from keras.preprocessing.sequence import pad_sequences\n",
        "from keras.utils import to_categorical\n",
        "import pandas as pd\n",
        "import os\n",
        "import matplotlib.pyplot as plt\n",
        "from keras.layers import Input, Dense, Embedding, Conv1D, MaxPool1D\n",
        "import numpy as np\n",
        "from sklearn import metrics\n",
        "from sklearn.model_selection import StratifiedKFold\n",
        "nltk.download('punkt')"
      ],
      "execution_count": null,
      "outputs": [
        {
          "output_type": "stream",
          "text": [
            "Collecting scikit-plot\n",
            "  Downloading https://files.pythonhosted.org/packages/7c/47/32520e259340c140a4ad27c1b97050dd3254fdc517b1d59974d47037510e/scikit_plot-0.3.7-py3-none-any.whl\n",
            "Requirement already satisfied: scikit-learn>=0.18 in /usr/local/lib/python3.6/dist-packages (from scikit-plot) (0.22.2.post1)\n",
            "Requirement already satisfied: matplotlib>=1.4.0 in /usr/local/lib/python3.6/dist-packages (from scikit-plot) (3.2.2)\n",
            "Requirement already satisfied: scipy>=0.9 in /usr/local/lib/python3.6/dist-packages (from scikit-plot) (1.4.1)\n",
            "Requirement already satisfied: joblib>=0.10 in /usr/local/lib/python3.6/dist-packages (from scikit-plot) (0.16.0)\n",
            "Requirement already satisfied: numpy>=1.11.0 in /usr/local/lib/python3.6/dist-packages (from scikit-learn>=0.18->scikit-plot) (1.18.5)\n",
            "Requirement already satisfied: python-dateutil>=2.1 in /usr/local/lib/python3.6/dist-packages (from matplotlib>=1.4.0->scikit-plot) (2.8.1)\n",
            "Requirement already satisfied: pyparsing!=2.0.4,!=2.1.2,!=2.1.6,>=2.0.1 in /usr/local/lib/python3.6/dist-packages (from matplotlib>=1.4.0->scikit-plot) (2.4.7)\n",
            "Requirement already satisfied: kiwisolver>=1.0.1 in /usr/local/lib/python3.6/dist-packages (from matplotlib>=1.4.0->scikit-plot) (1.2.0)\n",
            "Requirement already satisfied: cycler>=0.10 in /usr/local/lib/python3.6/dist-packages (from matplotlib>=1.4.0->scikit-plot) (0.10.0)\n",
            "Requirement already satisfied: six>=1.5 in /usr/local/lib/python3.6/dist-packages (from python-dateutil>=2.1->matplotlib>=1.4.0->scikit-plot) (1.15.0)\n",
            "Installing collected packages: scikit-plot\n",
            "Successfully installed scikit-plot-0.3.7\n",
            "[nltk_data] Downloading package punkt to /root/nltk_data...\n",
            "[nltk_data]   Unzipping tokenizers/punkt.zip.\n"
          ],
          "name": "stdout"
        },
        {
          "output_type": "execute_result",
          "data": {
            "text/plain": [
              "True"
            ]
          },
          "metadata": {
            "tags": []
          },
          "execution_count": 2
        }
      ]
    },
    {
      "cell_type": "code",
      "metadata": {
        "id": "j49UIyZNVTnr"
      },
      "source": [
        "# ouvrir un fichier pickle\n",
        "def open_pickle(path):\n",
        "  with open(path, 'rb') as handle: \n",
        "    doc= pickle.load(handle)\n",
        "    return doc\n",
        "\n",
        "def save_pickle(variable,filename):\n",
        "    with open(filename, 'wb') as handle:\n",
        "         pickle.dump(variable, handle, protocol=pickle.HIGHEST_PROTOCOL)\n",
        "#modified\n",
        "from keras import backend as K\n",
        "\n",
        "def check_units(y_true, y_pred):\n",
        "    if y_pred.shape[1] != 1:\n",
        "        y_pred = y_pred[:,1:2]\n",
        "        y_true = y_true[:,1:2]\n",
        "    \n",
        "    return y_true, y_pred\n",
        "\n",
        "def precision(y_true, y_pred):\n",
        "    y_true, y_pred = check_units(y_true, y_pred)\n",
        "    true_positives = K.sum(K.round(K.clip(y_true * y_pred, 0, 1)))\n",
        "    predicted_positives = K.sum(K.round(K.clip(y_pred, 0, 1)))\n",
        "    precision = true_positives / (predicted_positives + K.epsilon())\n",
        "    \n",
        "    return precision\n",
        "\n",
        "def recall(y_true, y_pred):\n",
        "    y_true, y_pred = check_units(y_true, y_pred)\n",
        "    true_positives = K.sum(K.round(K.clip(y_true * y_pred, 0, 1)))\n",
        "    possible_positives = K.sum(K.round(K.clip(y_true, 0, 1)))\n",
        "    recall = true_positives / (possible_positives + K.epsilon())\n",
        "    \n",
        "    return recall\n",
        "\n",
        "def fmeasure(y_true, y_pred):\n",
        "    def recall(y_true, y_pred):\n",
        "        true_positives = K.sum(K.round(K.clip(y_true * y_pred, 0, 1)))\n",
        "        possible_positives = K.sum(K.round(K.clip(y_true, 0, 1)))\n",
        "        recall = true_positives / (possible_positives + K.epsilon())\n",
        "        \n",
        "        return recall\n",
        "\n",
        "    def precision(y_true, y_pred):\n",
        "        true_positives = K.sum(K.round(K.clip(y_true * y_pred, 0, 1)))\n",
        "        predicted_positives = K.sum(K.round(K.clip(y_pred, 0, 1)))\n",
        "        precision = true_positives / (predicted_positives + K.epsilon())\n",
        "        \n",
        "        return precision\n",
        "    \n",
        "    y_true, y_pred = check_units(y_true, y_pred)\n",
        "    precision = precision(y_true, y_pred)\n",
        "    recall = recall(y_true, y_pred)\n",
        "    \n",
        "    return 2 * ((precision * recall) / (precision + recall + K.epsilon()))\n",
        "\n",
        "#  optimizer\n",
        "sgd = keras.optimizers.SGD(lr=1e-4, momentum=0.9)\n",
        "rms_prop = keras.optimizers.RMSprop(lr=1e-4)\n",
        "#opt = Adam(learning_rate = 0.001, beta_1 = 0.9, beta_2 = 0.999, epsilon = 1e-08, decay = 0.0)\n",
        "\n",
        "adamax = keras.optimizers.Adamax(lr=1e-4, beta_1=0.9, beta_2=0.999, epsilon=None, decay=0.0)\n",
        "adadelta = keras.optimizers.Adadelta(lr=1.0, rho=0.95, epsilon=1e-08, decay=0.0)\n",
        "\n",
        "learning_rate_reduction = ReduceLROnPlateau(monitor='val_acc', \n",
        "                                            patience=3, \n",
        "                                            verbose=1, \n",
        "                                            factor=0.5, \n",
        "                                            min_lr=0.0001)\n",
        "\n",
        "\n",
        "#*********************************************Accuaracy and loss*******************************\n",
        "def plot_graphs(history, string):\n",
        "  plt.plot(history.history[string])\n",
        "  plt.plot(history.history['val_'+string])\n",
        "  plt.xlabel(\"Epochs\")\n",
        "  plt.ylabel(string)\n",
        "  plt.legend([string, 'val_'+string])\n",
        "  plt.show()"
      ],
      "execution_count": null,
      "outputs": []
    },
    {
      "cell_type": "markdown",
      "metadata": {
        "id": "I_GrQFAfmKwM"
      },
      "source": [
        "#1 ensemble de données"
      ]
    },
    {
      "cell_type": "markdown",
      "metadata": {
        "id": "-TK_tixnmQLF"
      },
      "source": [
        "##Remarque: décommenter 1 seul ensemble de données à testet"
      ]
    },
    {
      "cell_type": "markdown",
      "metadata": {
        "id": "xFTokZwamVtU"
      },
      "source": [
        "#Mataoui originale: 2classes"
      ]
    },
    {
      "cell_type": "code",
      "metadata": {
        "id": "r-ADCXe1mX5z"
      },
      "source": [
        "#data=open_pickle(\"/content/drive/My Drive/PROJET FIN ETUDE 2019 2020/ressources/mataouiOrg.pickle\")\n",
        "'''\n",
        "data.info()\n",
        "print('**********************************************************************')\n",
        "print(data.shape)\n",
        "print('**********************************************************************')\n",
        "#print(data.label.value_counts())\n",
        "print(\"nbr de val positives = \",len(data.loc[data['label'] == 1].iloc[:,1]))\n",
        "print(\"nbr de val negatives = \",len(data.loc[data['label'] == -1].iloc[:,1]))\n",
        "print(\"nbr de val neutres = \",len(data.loc[data['label'] == 0].iloc[:,1]))\n",
        "print(\"**********************************************************************\")\n",
        "print(\"les valeurs nuls:\\n\", data.isnull().sum())\n",
        "data = pd.DataFrame(data)''' \n"
      ],
      "execution_count": null,
      "outputs": []
    },
    {
      "cell_type": "markdown",
      "metadata": {
        "id": "mV6UOrpImZGL"
      },
      "source": [
        "#Mataoui avec 3 classes"
      ]
    },
    {
      "cell_type": "code",
      "metadata": {
        "id": "pteh11ZDmctx"
      },
      "source": [
        "#data=open_pickle(\"/content/drive/My Drive/PROJET FIN ETUDE 2019 2020/ressources/dataMataoui.pickle\")\n",
        "'''\n",
        "data.info()\n",
        "print('**********************************************************************')\n",
        "print(data.shape)\n",
        "print('**********************************************************************')\n",
        "#print(data.label.value_counts())\n",
        "print(\"nbr de val positives = \",len(data.loc[data['label'] == 1].iloc[:,1]))\n",
        "print(\"nbr de val negatives = \",len(data.loc[data['label'] == -1].iloc[:,1]))\n",
        "print(\"nbr de val neutres = \",len(data.loc[data['label'] == 0].iloc[:,1]))\n",
        "print(\"**********************************************************************\")\n",
        "print(\"les valeurs nuls:\\n\", data.isnull().sum())\n",
        "data = pd.DataFrame(data)''' "
      ],
      "execution_count": null,
      "outputs": []
    },
    {
      "cell_type": "markdown",
      "metadata": {
        "id": "zNdpWPQemfWe"
      },
      "source": [
        " # BrandtDz"
      ]
    },
    {
      "cell_type": "code",
      "metadata": {
        "id": "3Vkfo3Wome7x"
      },
      "source": [
        "#data=open_pickle(\"/content/drive/My Drive/PROJET FIN ETUDE 2019 2020/ressources/BRANDT.pickle\")\n",
        "'''\n",
        "data.info()\n",
        "print('**********************************************************************')\n",
        "print(data.shape)\n",
        "print('**********************************************************************')\n",
        "#print(data.label.value_counts())\n",
        "print(\"nbr de val positives = \",len(data.loc[data['label'] == 1].iloc[:,1]))\n",
        "print(\"nbr de val negatives = \",len(data.loc[data['label'] == -1].iloc[:,1]))\n",
        "print(\"nbr de val neutres = \",len(data.loc[data['label'] == 0].iloc[:,1]))\n",
        "print(\"**********************************************************************\")\n",
        "print(\"les valeurs nuls:\\n\", data.isnull().sum())\n",
        "data = pd.DataFrame(data)''' "
      ],
      "execution_count": null,
      "outputs": []
    },
    {
      "cell_type": "markdown",
      "metadata": {
        "id": "hBjbRawgmnzM"
      },
      "source": [
        "# Madar+ YouTube"
      ]
    },
    {
      "cell_type": "code",
      "metadata": {
        "id": "17Ye4rXbm468"
      },
      "source": [
        "data=open_pickle(\"/content/drive/My Drive/PROJET FIN ETUDE 2019 2020/ressources/data_mixed.pickle\")\n",
        "'''\n",
        "data.info()\n",
        "print('**********************************************************************')\n",
        "print(data.shape)\n",
        "print('**********************************************************************')\n",
        "#print(data.label.value_counts())\n",
        "print(\"nbr de val positives = \",len(data.loc[data['label'] == 1].iloc[:,1]))\n",
        "print(\"nbr de val negatives = \",len(data.loc[data['label'] == -1].iloc[:,1]))\n",
        "print(\"nbr de val neutres = \",len(data.loc[data['label'] == 0].iloc[:,1]))\n",
        "print(\"**********************************************************************\")\n",
        "print(\"les valeurs nuls:\\n\", data.isnull().sum())\n",
        "data = pd.DataFrame(data)''' "
      ],
      "execution_count": null,
      "outputs": []
    },
    {
      "cell_type": "markdown",
      "metadata": {
        "id": "Y8Z5MjyfrKRj"
      },
      "source": [
        "#dataset rassemblé"
      ]
    },
    {
      "cell_type": "code",
      "metadata": {
        "id": "w5id7vOHrOup"
      },
      "source": [
        "#data=open_pickle(\"/content/drive/My Drive/PROJET FIN ETUDE 2019 2020/ressources/finale_data.pickle\")\n",
        "'''\n",
        "data.info()\n",
        "print('**********************************************************************')\n",
        "print(data.shape)\n",
        "print('**********************************************************************')\n",
        "#print(data.label.value_counts())\n",
        "print(\"nbr de val positives = \",len(data.loc[data['label'] == 1].iloc[:,1]))\n",
        "print(\"nbr de val negatives = \",len(data.loc[data['label'] == -1].iloc[:,1]))\n",
        "print(\"nbr de val neutres = \",len(data.loc[data['label'] == 0].iloc[:,1]))\n",
        "print(\"**********************************************************************\")\n",
        "print(\"les valeurs nuls:\\n\", data.isnull().sum())\n",
        "data = pd.DataFrame(data)''' "
      ],
      "execution_count": null,
      "outputs": []
    },
    {
      "cell_type": "markdown",
      "metadata": {
        "id": "b9XJwzHLrvkF"
      },
      "source": [
        "#ensemble de données équilibere"
      ]
    },
    {
      "cell_type": "code",
      "metadata": {
        "id": "yGKMO9qQVb4Q"
      },
      "source": [
        "#data=open_pickle(\"/content/drive/My Drive/PROJET FIN ETUDE 2019 2020/ressources/finale_data.pickle\")\n",
        "'''\n",
        "data = pd.DataFrame(data) \n",
        "\n",
        "pos = data[data['label'] ==1]\n",
        "neg = data[data['label'] == -1]\n",
        "neu = data[data['label'] == 0]\n",
        "\n",
        "max_len = min(len(pos), len(neg), len(neu))\n",
        "\n",
        "data_ = []\n",
        "for i in range(max_len):\n",
        "  data_ += [{'text' : pos.iloc[i]['text'], 'label' : pos.iloc[i]['label']}]\n",
        "  data_ += [{'text' : neg.iloc[i]['text'], 'label' : neg.iloc[i]['label']}]\n",
        "  data_ += [{'text' : neu.iloc[i]['text'], 'label' : neu.iloc[i]['label']}]\n",
        "\n",
        "data = pd.DataFrame(data_)\n",
        "'''\n",
        "\n",
        "\n"
      ],
      "execution_count": null,
      "outputs": []
    },
    {
      "cell_type": "markdown",
      "metadata": {
        "id": "et-xxAEsr6ZC"
      },
      "source": [
        "#Traitement"
      ]
    },
    {
      "cell_type": "code",
      "metadata": {
        "id": "umZuDW2Nr_WN"
      },
      "source": [
        "X_train, X_test, y_train, y_test = train_test_split(data['text'],data['label'], train_size=0.90)\n",
        "\n",
        "texte = X_train.append(X_test)"
      ],
      "execution_count": null,
      "outputs": []
    },
    {
      "cell_type": "markdown",
      "metadata": {
        "id": "MDRANaK8sBQA"
      },
      "source": [
        "#Encodage du text"
      ]
    },
    {
      "cell_type": "code",
      "metadata": {
        "id": "P387XaxjVftw",
        "colab": {
          "base_uri": "https://localhost:8080/",
          "height": 34
        },
        "outputId": "1044207e-d55c-4292-84d2-54c80b5d2c48"
      },
      "source": [
        "from collections import Counter\n",
        "\n",
        "# Count unique words\n",
        "def counter_word(text):\n",
        "    count = Counter()\n",
        "    for i in text.values:\n",
        "        for word in i.split():\n",
        "            count[word] += 1\n",
        "    return count\n",
        "\n",
        "counter = counter_word(texte)\n",
        "num_words = len(counter)# we 'll use it to vocab \n",
        "\n",
        "# Max number of words in a sequence\n",
        "max_length = 60\n",
        "print('vocab=', len(counter),' and max_length=',max_length)"
      ],
      "execution_count": null,
      "outputs": [
        {
          "output_type": "stream",
          "text": [
            "vocab= 12201  and max_length= 60\n"
          ],
          "name": "stdout"
        }
      ]
    },
    {
      "cell_type": "code",
      "metadata": {
        "id": "MHCCgCyRVkee",
        "colab": {
          "base_uri": "https://localhost:8080/",
          "height": 34
        },
        "outputId": "ce939700-3864-4648-ce76-f61f3805aac2"
      },
      "source": [
        "\n",
        "from keras.preprocessing.text import Tokenizer\n",
        "from keras.preprocessing.sequence import pad_sequences\n",
        "\n",
        "tokenizer = Tokenizer(num_words=num_words)\n",
        "tokenizer.fit_on_texts(X_train)\n",
        "word_index = tokenizer.word_index\n",
        "\n",
        "train_sequences = tokenizer.texts_to_sequences(X_train)\n",
        "train_padded = pad_sequences( train_sequences, maxlen=max_length, padding=\"post\", truncating=\"post\")\n",
        "\n",
        "test_sequences = tokenizer.texts_to_sequences(X_test)\n",
        "test_padded = pad_sequences(  test_sequences, maxlen=max_length, padding=\"post\", truncating=\"post\")\n",
        "\n",
        "reverse_word_index = dict([(value, key) for (key, value) in word_index.items()])\n",
        "def decode(text):\n",
        "    return \" \".join([reverse_word_index.get(i, \"?\") for i in text])\n",
        "decode(train_sequences[0])\n",
        "\n",
        "#len(valid_padded)"
      ],
      "execution_count": null,
      "outputs": [
        {
          "output_type": "execute_result",
          "data": {
            "application/vnd.google.colaboratory.intrinsic+json": {
              "type": "string"
            },
            "text/plain": [
              "'منتصر العصابة الثانية'"
            ]
          },
          "metadata": {
            "tags": []
          },
          "execution_count": 7
        }
      ]
    },
    {
      "cell_type": "markdown",
      "metadata": {
        "id": "D571ETGMsFqX"
      },
      "source": [
        "#Encodage des labels"
      ]
    },
    {
      "cell_type": "code",
      "metadata": {
        "id": "HC7NjuF_VmoC",
        "colab": {
          "base_uri": "https://localhost:8080/",
          "height": 34
        },
        "outputId": "2d3af48c-c58c-46e8-e9cb-ab8f7839b6f6"
      },
      "source": [
        "\n",
        "\n",
        "from keras.utils import to_categorical\n",
        "\n",
        "y_train = np.array(y_train)\n",
        "y_test = np.array(y_test)\n",
        "y_train = to_categorical(y_train, num_classes=3)\n",
        "y_test = to_categorical(y_test, num_classes=3)\n",
        "\n",
        "y_train.shape"
      ],
      "execution_count": null,
      "outputs": [
        {
          "output_type": "execute_result",
          "data": {
            "text/plain": [
              "(3584, 3)"
            ]
          },
          "metadata": {
            "tags": []
          },
          "execution_count": 8
        }
      ]
    },
    {
      "cell_type": "markdown",
      "metadata": {
        "id": "li3nNGqQsMNe"
      },
      "source": [
        "# Architecture"
      ]
    },
    {
      "cell_type": "code",
      "metadata": {
        "id": "HENvcglPWH-V",
        "colab": {
          "base_uri": "https://localhost:8080/",
          "height": 364
        },
        "outputId": "732515a1-56be-4697-b0c6-0f9c2623aab7"
      },
      "source": [
        "\n",
        "model = Sequential()\n",
        "model.add(Embedding(num_words,100,input_shape= (train_padded.shape[1],),mask_zero=True))\n",
        "model.add(SpatialDropout1D(0.4))\n",
        "\n",
        "model.add(Bidirectional(LSTM(32,recurrent_dropout=0.4,dropout=0.5,return_sequences=True)))\n",
        "model.add(Bidirectional(LSTM(16)))\n",
        "\n",
        "\n",
        "model.add(Dropout(0.1))\n",
        "\n",
        "model.add(Dense(3,activation='softmax'))\n",
        "\n",
        "#  optimizer\n",
        "sgd = keras.optimizers.SGD(lr=0.001, momentum=0.9)\n",
        "rms_prop = keras.optimizers.RMSprop(lr=0.0001)\n",
        "opt = Adam(learning_rate = 0.0001, beta_1 = 0.9, beta_2 = 0.999, epsilon = 1e-08, decay = 0.0)\n",
        "\n",
        "#adam = keras.optimizers.adam(lr=1e-4, beta_1=0.9, beta_2=0.999, epsilon=1e-08) \n",
        "adamax = keras.optimizers.Adamax(lr=1e-4, beta_1=0.9, beta_2=0.999, epsilon=None, decay=0.0)\n",
        "adadelta = keras.optimizers.Adadelta(lr=1.0, rho=0.95, epsilon=1e-08, decay=0.0)\n",
        "\n",
        "learning_rate_reduction = ReduceLROnPlateau(monitor='val_acc', \n",
        "                                            patience=3, \n",
        "                                            verbose=1, \n",
        "                                            factor=0.5, \n",
        "                                            min_lr=0.0001)\n",
        "model.compile(optimizer = rms_prop, loss = keras.losses.categorical_crossentropy, metrics = ['accuracy', recall, precision, fmeasure])\n",
        "model.summary()"
      ],
      "execution_count": null,
      "outputs": [
        {
          "output_type": "stream",
          "text": [
            "Model: \"sequential\"\n",
            "_________________________________________________________________\n",
            "Layer (type)                 Output Shape              Param #   \n",
            "=================================================================\n",
            "embedding (Embedding)        (None, 60, 100)           1220100   \n",
            "_________________________________________________________________\n",
            "spatial_dropout1d (SpatialDr (None, 60, 100)           0         \n",
            "_________________________________________________________________\n",
            "bidirectional (Bidirectional (None, 60, 64)            34048     \n",
            "_________________________________________________________________\n",
            "bidirectional_1 (Bidirection (None, 32)                10368     \n",
            "_________________________________________________________________\n",
            "dropout (Dropout)            (None, 32)                0         \n",
            "_________________________________________________________________\n",
            "dense (Dense)                (None, 3)                 99        \n",
            "=================================================================\n",
            "Total params: 1,264,615\n",
            "Trainable params: 1,264,615\n",
            "Non-trainable params: 0\n",
            "_________________________________________________________________\n"
          ],
          "name": "stdout"
        }
      ]
    },
    {
      "cell_type": "markdown",
      "metadata": {
        "id": "Lpa8idFFscQi"
      },
      "source": [
        "#Entrainement"
      ]
    },
    {
      "cell_type": "code",
      "metadata": {
        "id": "q0f_i0NOWNtu",
        "colab": {
          "base_uri": "https://localhost:8080/",
          "height": 1000
        },
        "outputId": "3a92c0b9-7db9-4352-8877-4f0205d5316f"
      },
      "source": [
        "history = model.fit(train_padded, y_train, epochs=50, batch_size=100,validation_split=0.10,callbacks=[EarlyStopping(monitor='val_loss',patience=3, min_delta=0.0001)])\n"
      ],
      "execution_count": null,
      "outputs": [
        {
          "output_type": "stream",
          "text": [
            "Epoch 1/50\n",
            "33/33 [==============================] - 12s 366ms/step - loss: 1.0858 - accuracy: 0.5519 - recall: 0.0000e+00 - precision: 0.0000e+00 - fmeasure: 0.0000e+00 - val_loss: 1.0770 - val_accuracy: 0.5794 - val_recall: 0.0000e+00 - val_precision: 0.0000e+00 - val_fmeasure: 0.0000e+00\n",
            "Epoch 2/50\n",
            "33/33 [==============================] - 9s 282ms/step - loss: 1.0671 - accuracy: 0.5907 - recall: 0.0000e+00 - precision: 0.0000e+00 - fmeasure: 0.0000e+00 - val_loss: 1.0582 - val_accuracy: 0.5794 - val_recall: 0.0000e+00 - val_precision: 0.0000e+00 - val_fmeasure: 0.0000e+00\n",
            "Epoch 3/50\n",
            "33/33 [==============================] - 9s 283ms/step - loss: 1.0452 - accuracy: 0.5895 - recall: 0.0000e+00 - precision: 0.0000e+00 - fmeasure: 0.0000e+00 - val_loss: 1.0347 - val_accuracy: 0.5794 - val_recall: 0.0000e+00 - val_precision: 0.0000e+00 - val_fmeasure: 0.0000e+00\n",
            "Epoch 4/50\n",
            "33/33 [==============================] - 9s 287ms/step - loss: 1.0169 - accuracy: 0.5891 - recall: 0.0000e+00 - precision: 0.0000e+00 - fmeasure: 0.0000e+00 - val_loss: 1.0074 - val_accuracy: 0.5794 - val_recall: 0.0000e+00 - val_precision: 0.0000e+00 - val_fmeasure: 0.0000e+00\n",
            "Epoch 5/50\n",
            "33/33 [==============================] - 9s 282ms/step - loss: 0.9860 - accuracy: 0.5891 - recall: 0.0000e+00 - precision: 0.0000e+00 - fmeasure: 0.0000e+00 - val_loss: 0.9773 - val_accuracy: 0.5794 - val_recall: 0.0000e+00 - val_precision: 0.0000e+00 - val_fmeasure: 0.0000e+00\n",
            "Epoch 6/50\n",
            "33/33 [==============================] - 9s 285ms/step - loss: 0.9512 - accuracy: 0.5891 - recall: 0.0000e+00 - precision: 0.0000e+00 - fmeasure: 0.0000e+00 - val_loss: 0.9460 - val_accuracy: 0.5794 - val_recall: 0.0000e+00 - val_precision: 0.0000e+00 - val_fmeasure: 0.0000e+00\n",
            "Epoch 7/50\n",
            "33/33 [==============================] - 10s 288ms/step - loss: 0.9169 - accuracy: 0.5891 - recall: 0.0000e+00 - precision: 0.0000e+00 - fmeasure: 0.0000e+00 - val_loss: 0.9127 - val_accuracy: 0.5794 - val_recall: 0.0000e+00 - val_precision: 0.0000e+00 - val_fmeasure: 0.0000e+00\n",
            "Epoch 8/50\n",
            "33/33 [==============================] - 9s 284ms/step - loss: 0.8778 - accuracy: 0.5898 - recall: 0.0000e+00 - precision: 0.0000e+00 - fmeasure: 0.0000e+00 - val_loss: 0.8745 - val_accuracy: 0.5794 - val_recall: 0.0000e+00 - val_precision: 0.0000e+00 - val_fmeasure: 0.0000e+00\n",
            "Epoch 9/50\n",
            "33/33 [==============================] - 10s 288ms/step - loss: 0.8348 - accuracy: 0.5935 - recall: 0.0000e+00 - precision: 0.0000e+00 - fmeasure: 0.0000e+00 - val_loss: 0.8338 - val_accuracy: 0.5794 - val_recall: 0.0000e+00 - val_precision: 0.0000e+00 - val_fmeasure: 0.0000e+00\n",
            "Epoch 10/50\n",
            "33/33 [==============================] - 9s 282ms/step - loss: 0.7880 - accuracy: 0.6096 - recall: 0.0000e+00 - precision: 0.0000e+00 - fmeasure: 0.0000e+00 - val_loss: 0.7918 - val_accuracy: 0.5961 - val_recall: 0.0000e+00 - val_precision: 0.0000e+00 - val_fmeasure: 0.0000e+00\n",
            "Epoch 11/50\n",
            "33/33 [==============================] - 10s 289ms/step - loss: 0.7401 - accuracy: 0.6450 - recall: 0.0000e+00 - precision: 0.0000e+00 - fmeasure: 0.0000e+00 - val_loss: 0.7513 - val_accuracy: 0.6630 - val_recall: 0.0000e+00 - val_precision: 0.0000e+00 - val_fmeasure: 0.0000e+00\n",
            "Epoch 12/50\n",
            "33/33 [==============================] - 9s 283ms/step - loss: 0.7007 - accuracy: 0.6797 - recall: 0.0000e+00 - precision: 0.0000e+00 - fmeasure: 0.0000e+00 - val_loss: 0.7194 - val_accuracy: 0.6880 - val_recall: 0.0000e+00 - val_precision: 0.0000e+00 - val_fmeasure: 0.0000e+00\n",
            "Epoch 13/50\n",
            "33/33 [==============================] - 9s 284ms/step - loss: 0.6668 - accuracy: 0.7026 - recall: 0.0000e+00 - precision: 0.0000e+00 - fmeasure: 0.0000e+00 - val_loss: 0.6964 - val_accuracy: 0.6936 - val_recall: 0.0000e+00 - val_precision: 0.0000e+00 - val_fmeasure: 0.0000e+00\n",
            "Epoch 14/50\n",
            "33/33 [==============================] - 9s 282ms/step - loss: 0.6414 - accuracy: 0.7219 - recall: 0.0000e+00 - precision: 0.0000e+00 - fmeasure: 0.0000e+00 - val_loss: 0.6799 - val_accuracy: 0.7103 - val_recall: 0.0000e+00 - val_precision: 0.0000e+00 - val_fmeasure: 0.0000e+00\n",
            "Epoch 15/50\n",
            "33/33 [==============================] - 9s 284ms/step - loss: 0.6230 - accuracy: 0.7343 - recall: 0.0000e+00 - precision: 0.0000e+00 - fmeasure: 0.0000e+00 - val_loss: 0.6701 - val_accuracy: 0.7214 - val_recall: 0.0000e+00 - val_precision: 0.0000e+00 - val_fmeasure: 0.0000e+00\n",
            "Epoch 16/50\n",
            "33/33 [==============================] - 9s 286ms/step - loss: 0.6081 - accuracy: 0.7445 - recall: 0.0000e+00 - precision: 0.0000e+00 - fmeasure: 0.0000e+00 - val_loss: 0.6629 - val_accuracy: 0.7187 - val_recall: 0.0000e+00 - val_precision: 0.0000e+00 - val_fmeasure: 0.0000e+00\n",
            "Epoch 17/50\n",
            "33/33 [==============================] - 9s 285ms/step - loss: 0.5938 - accuracy: 0.7535 - recall: 0.0000e+00 - precision: 0.0000e+00 - fmeasure: 0.0000e+00 - val_loss: 0.6580 - val_accuracy: 0.7270 - val_recall: 0.0000e+00 - val_precision: 0.0000e+00 - val_fmeasure: 0.0000e+00\n",
            "Epoch 18/50\n",
            "33/33 [==============================] - 9s 283ms/step - loss: 0.5735 - accuracy: 0.7678 - recall: 0.0000e+00 - precision: 0.0000e+00 - fmeasure: 0.0000e+00 - val_loss: 0.6538 - val_accuracy: 0.7270 - val_recall: 0.0000e+00 - val_precision: 0.0000e+00 - val_fmeasure: 0.0000e+00\n",
            "Epoch 19/50\n",
            "33/33 [==============================] - 9s 284ms/step - loss: 0.5654 - accuracy: 0.7684 - recall: 0.0000e+00 - precision: 0.0000e+00 - fmeasure: 0.0000e+00 - val_loss: 0.6498 - val_accuracy: 0.7354 - val_recall: 0.0000e+00 - val_precision: 0.0000e+00 - val_fmeasure: 0.0000e+00\n",
            "Epoch 20/50\n",
            "33/33 [==============================] - 9s 286ms/step - loss: 0.5540 - accuracy: 0.7699 - recall: 0.0000e+00 - precision: 0.0000e+00 - fmeasure: 0.0000e+00 - val_loss: 0.6483 - val_accuracy: 0.7409 - val_recall: 0.0000e+00 - val_precision: 0.0000e+00 - val_fmeasure: 0.0000e+00\n",
            "Epoch 21/50\n",
            "33/33 [==============================] - 9s 281ms/step - loss: 0.5429 - accuracy: 0.7733 - recall: 0.0000e+00 - precision: 0.0000e+00 - fmeasure: 0.0000e+00 - val_loss: 0.6422 - val_accuracy: 0.7409 - val_recall: 0.0000e+00 - val_precision: 0.0000e+00 - val_fmeasure: 0.0000e+00\n",
            "Epoch 22/50\n",
            "33/33 [==============================] - 9s 285ms/step - loss: 0.5359 - accuracy: 0.7873 - recall: 0.0000e+00 - precision: 0.0000e+00 - fmeasure: 0.0000e+00 - val_loss: 0.6356 - val_accuracy: 0.7465 - val_recall: 0.0000e+00 - val_precision: 0.0000e+00 - val_fmeasure: 0.0000e+00\n",
            "Epoch 23/50\n",
            "33/33 [==============================] - 9s 283ms/step - loss: 0.5276 - accuracy: 0.7839 - recall: 0.0000e+00 - precision: 0.0000e+00 - fmeasure: 0.0000e+00 - val_loss: 0.6420 - val_accuracy: 0.7382 - val_recall: 0.0000e+00 - val_precision: 0.0000e+00 - val_fmeasure: 0.0000e+00\n",
            "Epoch 24/50\n",
            "33/33 [==============================] - 9s 286ms/step - loss: 0.5092 - accuracy: 0.7913 - recall: 0.0000e+00 - precision: 0.0000e+00 - fmeasure: 0.0000e+00 - val_loss: 0.6339 - val_accuracy: 0.7409 - val_recall: 0.0000e+00 - val_precision: 0.0000e+00 - val_fmeasure: 0.0000e+00\n",
            "Epoch 25/50\n",
            "33/33 [==============================] - 9s 285ms/step - loss: 0.5063 - accuracy: 0.7994 - recall: 0.0018 - precision: 0.0303 - fmeasure: 0.0034 - val_loss: 0.6272 - val_accuracy: 0.7382 - val_recall: 0.0000e+00 - val_precision: 0.0000e+00 - val_fmeasure: 0.0000e+00\n",
            "Epoch 26/50\n",
            "33/33 [==============================] - 9s 286ms/step - loss: 0.5043 - accuracy: 0.7916 - recall: 0.0023 - precision: 0.0303 - fmeasure: 0.0043 - val_loss: 0.6190 - val_accuracy: 0.7382 - val_recall: 0.0000e+00 - val_precision: 0.0000e+00 - val_fmeasure: 0.0000e+00\n",
            "Epoch 27/50\n",
            "33/33 [==============================] - 9s 282ms/step - loss: 0.4915 - accuracy: 0.8053 - recall: 0.0054 - precision: 0.0455 - fmeasure: 0.0094 - val_loss: 0.6200 - val_accuracy: 0.7437 - val_recall: 0.0208 - val_precision: 0.2500 - val_fmeasure: 0.0385\n",
            "Epoch 28/50\n",
            "33/33 [==============================] - 9s 284ms/step - loss: 0.4809 - accuracy: 0.8121 - recall: 0.0247 - precision: 0.3333 - fmeasure: 0.0458 - val_loss: 0.6193 - val_accuracy: 0.7465 - val_recall: 0.0208 - val_precision: 0.2500 - val_fmeasure: 0.0385\n",
            "Epoch 29/50\n",
            "33/33 [==============================] - 9s 284ms/step - loss: 0.4646 - accuracy: 0.8167 - recall: 0.0381 - precision: 0.3636 - fmeasure: 0.0679 - val_loss: 0.6174 - val_accuracy: 0.7521 - val_recall: 0.0208 - val_precision: 0.2500 - val_fmeasure: 0.0385\n",
            "Epoch 30/50\n",
            "33/33 [==============================] - 9s 284ms/step - loss: 0.4560 - accuracy: 0.8248 - recall: 0.0974 - precision: 0.6818 - fmeasure: 0.1620 - val_loss: 0.6142 - val_accuracy: 0.7465 - val_recall: 0.0208 - val_precision: 0.2500 - val_fmeasure: 0.0385\n",
            "Epoch 31/50\n",
            "33/33 [==============================] - 9s 286ms/step - loss: 0.4420 - accuracy: 0.8291 - recall: 0.0727 - precision: 0.5758 - fmeasure: 0.1273 - val_loss: 0.6153 - val_accuracy: 0.7493 - val_recall: 0.0208 - val_precision: 0.2500 - val_fmeasure: 0.0385\n",
            "Epoch 32/50\n",
            "33/33 [==============================] - 9s 282ms/step - loss: 0.4370 - accuracy: 0.8357 - recall: 0.1388 - precision: 0.8096 - fmeasure: 0.2303 - val_loss: 0.6150 - val_accuracy: 0.7493 - val_recall: 0.0417 - val_precision: 0.1667 - val_fmeasure: 0.0667\n",
            "Epoch 33/50\n",
            "33/33 [==============================] - 9s 281ms/step - loss: 0.4285 - accuracy: 0.8372 - recall: 0.1774 - precision: 0.7403 - fmeasure: 0.2714 - val_loss: 0.6099 - val_accuracy: 0.7465 - val_recall: 0.1045 - val_precision: 0.6875 - val_fmeasure: 0.1711\n",
            "Epoch 34/50\n",
            "33/33 [==============================] - 9s 287ms/step - loss: 0.4159 - accuracy: 0.8474 - recall: 0.1906 - precision: 0.8051 - fmeasure: 0.2959 - val_loss: 0.6134 - val_accuracy: 0.7382 - val_recall: 0.1045 - val_precision: 0.5625 - val_fmeasure: 0.1687\n",
            "Epoch 35/50\n",
            "33/33 [==============================] - 9s 287ms/step - loss: 0.4079 - accuracy: 0.8546 - recall: 0.2351 - precision: 0.7919 - fmeasure: 0.3523 - val_loss: 0.6140 - val_accuracy: 0.7437 - val_recall: 0.1045 - val_precision: 0.5208 - val_fmeasure: 0.1667\n",
            "Epoch 36/50\n",
            "33/33 [==============================] - 9s 284ms/step - loss: 0.3973 - accuracy: 0.8670 - recall: 0.2512 - precision: 0.8629 - fmeasure: 0.3763 - val_loss: 0.6146 - val_accuracy: 0.7465 - val_recall: 0.1429 - val_precision: 0.5875 - val_fmeasure: 0.2187\n"
          ],
          "name": "stdout"
        }
      ]
    },
    {
      "cell_type": "markdown",
      "metadata": {
        "id": "3H6ZcBnQsfrw"
      },
      "source": [
        "# Evaulation"
      ]
    },
    {
      "cell_type": "code",
      "metadata": {
        "id": "MlhG2SG4WQrT",
        "colab": {
          "base_uri": "https://localhost:8080/",
          "height": 89
        },
        "outputId": "2d83c6c4-d31a-4035-f638-a3e5570e8eab"
      },
      "source": [
        "result = model.evaluate(x=test_padded, y= y_test)\n",
        "print('Accuracy:', result[1])\n",
        "print('LOSS:', result[2])"
      ],
      "execution_count": null,
      "outputs": [
        {
          "output_type": "stream",
          "text": [
            "13/13 [==============================] - 0s 24ms/step - loss: 0.6319 - accuracy: 0.7368 - recall: 0.1456 - precision: 0.5000 - fmeasure: 0.2207\n",
            "Accuracy: 0.7368420958518982\n",
            "LOSS: 0.14560440182685852\n"
          ],
          "name": "stdout"
        }
      ]
    },
    {
      "cell_type": "code",
      "metadata": {
        "id": "gTSCLhmEWa5n",
        "colab": {
          "base_uri": "https://localhost:8080/",
          "height": 541
        },
        "outputId": "80e89b64-5403-4c62-fee9-b5a7b703cd99"
      },
      "source": [
        "plot_graphs(history, \"accuracy\")\n",
        "plot_graphs(history, \"loss\")"
      ],
      "execution_count": null,
      "outputs": [
        {
          "output_type": "display_data",
          "data": {
            "image/png": "[encoded data removed]",
            "text/plain": [
              "<Figure size 432x288 with 1 Axes>"
            ]
          },
          "metadata": {
            "tags": [],
            "needs_background": "light"
          }
        },
        {
          "output_type": "display_data",
          "data": {
            "image/png": "[encoded data removed]",
            "text/plain": [
              "<Figure size 432x288 with 1 Axes>"
            ]
          },
          "metadata": {
            "tags": [],
            "needs_background": "light"
          }
        }
      ]
    },
    {
      "cell_type": "code",
      "metadata": {
        "id": "rKmgLXi_Wce5",
        "colab": {
          "base_uri": "https://localhost:8080/",
          "height": 190
        },
        "outputId": "82301f21-381a-445d-d246-ac37f0f99e91"
      },
      "source": [
        "\n",
        "from sklearn.metrics import classification_report\n",
        "Y_pred = model.predict(test_padded)\n",
        "Y_pred_classes = np.argmax(Y_pred,axis = 1) \n",
        "Y_true = np.argmax(y_test,axis = 1) \n",
        "\n",
        "print(classification_report(Y_true,Y_pred_classes))"
      ],
      "execution_count": null,
      "outputs": [
        {
          "output_type": "stream",
          "text": [
            "              precision    recall  f1-score   support\n",
            "\n",
            "           0       0.80      0.90      0.85       243\n",
            "           1       0.89      0.19      0.31        43\n",
            "           2       0.57      0.60      0.59       113\n",
            "\n",
            "    accuracy                           0.74       399\n",
            "   macro avg       0.75      0.56      0.58       399\n",
            "weighted avg       0.75      0.74      0.72       399\n",
            "\n"
          ],
          "name": "stdout"
        }
      ]
    },
    {
      "cell_type": "code",
      "metadata": {
        "id": "TFLhrQ6JWexd",
        "colab": {
          "base_uri": "https://localhost:8080/",
          "height": 676
        },
        "outputId": "c29b5694-b74a-4e1c-9961-471690f88417"
      },
      "source": [
        "\n",
        "\n",
        "# confusion matrix\n",
        "import seaborn as sns\n",
        "from sklearn.metrics import confusion_matrix\n",
        "# Predict the values from the validation dataset\n",
        "Y_pred = model.predict(test_padded)\n",
        "# Convert predictions classes to one hot vectors \n",
        "Y_pred_classes = np.argmax(Y_pred,axis = 1) \n",
        "# Convert validation observations to one hot vectors\n",
        "Y_true = np.argmax(y_test,axis = 1) \n",
        "# compute the confusion matrix\n",
        "confusion_mtx = confusion_matrix(Y_true, Y_pred_classes) \n",
        "# plot the confusion matrix\n",
        "f,ax = plt.subplots(figsize=(10, 10))\n",
        "sns.heatmap(confusion_mtx, annot=True, linewidths=0.01,cmap=\"Greens\",linecolor=\"gray\", fmt= '.1f',ax=ax)\n",
        "plt.xlabel(\"Predicted Label\")\n",
        "plt.ylabel(\"True Label\")\n",
        "plt.title(\"Confusion Matrix\")\n",
        "plt.show()"
      ],
      "execution_count": null,
      "outputs": [
        {
          "output_type": "stream",
          "text": [
            "/usr/local/lib/python3.6/dist-packages/statsmodels/tools/_testing.py:19: FutureWarning: pandas.util.testing is deprecated. Use the functions in the public API at pandas.testing instead.\n",
            "  import pandas.util.testing as tm\n"
          ],
          "name": "stderr"
        },
        {
          "output_type": "display_data",
          "data": {
            "image/png": "[encoded data removed]",
            "text/plain": [
              "<Figure size 720x720 with 2 Axes>"
            ]
          },
          "metadata": {
            "tags": [],
            "needs_background": "light"
          }
        }
      ]
    },
    {
      "cell_type": "markdown",
      "metadata": {
        "id": "zIVfFreEskZZ"
      },
      "source": [
        "# sauvgarde"
      ]
    },
    {
      "cell_type": "code",
      "metadata": {
        "id": "ddnNkWIEYLHU"
      },
      "source": [
        "def savemodel(model,name):\n",
        "  model.save('/content/drive/My Drive/PROJET FIN ETUDE 2019 2020/CODE/'+name)\n",
        "def open_model(name):\n",
        "  return tf.keras.models.load_model('/content/drive/My Drive/PROJET FIN ETUDE 2019 2020/CODE/'+name)"
      ],
      "execution_count": null,
      "outputs": []
    }
  ]
}